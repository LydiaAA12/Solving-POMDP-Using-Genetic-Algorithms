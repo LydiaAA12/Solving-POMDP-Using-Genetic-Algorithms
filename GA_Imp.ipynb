{
 "cells": [
  {
   "cell_type": "code",
   "execution_count": 5,
   "metadata": {},
   "outputs": [
    {
     "name": "stdout",
     "output_type": "stream",
     "text": [
      "{'length': 6, 'breadth': 6}\n"
     ]
    },
    {
     "data": {
      "text/plain": [
       "<Figure size 640x480 with 1 Axes>"
      ]
     },
     "metadata": {},
     "output_type": "display_data"
    },
    {
     "name": "stdout",
     "output_type": "stream",
     "text": [
      "Parameters of the best solution : [4. 3. 3. 4. 1. 1. 4.]\n",
      "Fitness value of the best solution : 23.225599999999993 \n",
      "\n",
      "The saved instance of the genetic algorithm is loaded successfully.\n"
     ]
    },
    {
     "data": {
      "text/plain": [
       "<Figure size 640x480 with 1 Axes>"
      ]
     },
     "metadata": {},
     "output_type": "display_data"
    },
    {
     "name": "stdout",
     "output_type": "stream",
     "text": [
      "(array([4., 3., 3., 4., 1., 1., 4.]), 23.225599999999993)\n"
     ]
    }
   ],
   "source": [
    "import pygad\n",
    "import numpy\n",
    "import model\n",
    "import importlib\n",
    "importlib.reload(model)\n",
    "\n",
    "\n",
    "num_generations = 40 # Number of generations.\n",
    "sol_per_pop = 5000 # Number of solutions in the population.\n",
    "num_parents_mating = 5000 # Number of solutions to be selected as parents in the mating pool.\n",
    "\n",
    "# Parameters of the mutation operation.\n",
    "mutation_percent_genes = 10 # Percentage of genes to mutate. This parameter has no action if the parameter mutation_num_genes exists.\n",
    "mutation_num_genes = None # Number of genes to mutate. If the parameter mutation_num_genes exists, then no need for the parameter mutation_percent_genes.\n",
    "\n",
    "parent_selection_type = \"rws\" # Type of parent selection.\n",
    "\n",
    "crossover_type = \"single_point\" # Type of the crossover operator.\n",
    "\n",
    "mutation_type = \"scramble\" # Type of the mutation operator.\n",
    "\n",
    "keep_parents = 0 # Number of parents to keep in the next population. -1 means keep all parents and 0 means keep nothing.\n",
    "\n",
    "init_range_low = 1\n",
    "init_range_high = 5\n",
    "\n",
    "\n",
    "num_genes = 7\n",
    "\n",
    "## DEFINE GRIDWORLD SIZE AND ASSIGN POSITION COORDINATES TO EACH CELL ##\n",
    "graph = model.POMDP_PURSUIT_EVASION(6,6)\n",
    "graph.assign_pos()\n",
    "x= 0\n",
    "def fitness_func(solution):\n",
    "    # Calculating the fitness value of each solution in the current population.\n",
    "    # The fitness function calulates the sum of products between each input and its corresponding weight.\n",
    "    global x\n",
    "    x+=1\n",
    "#     print('GENERATION ',x)\n",
    "    policy = solution\n",
    "    fitness = graph.value_fitness(policy)\n",
    "    return fitness\n",
    "\n",
    "# Creating an instance of the GA class inside the ga module. Some parameters are initialized within the constructor.\n",
    "ga_instance = pygad.GA(num_generations=num_generations, \n",
    "          sol_per_pop=sol_per_pop, \n",
    "          num_parents_mating=num_parents_mating, \n",
    "          num_genes=num_genes,\n",
    "          fitness_func=fitness_func,\n",
    "          mutation_percent_genes=mutation_percent_genes,\n",
    "          mutation_num_genes=mutation_num_genes,\n",
    "          init_range_low=init_range_low,\n",
    "          init_range_high=init_range_high,\n",
    "          parent_selection_type=parent_selection_type,\n",
    "          crossover_type=crossover_type,\n",
    "          mutation_type=mutation_type,\n",
    "          keep_parents=keep_parents)\n",
    "\n",
    "# def run_GA():\n",
    "#     Running the GA to optimize the parameters of the function.\n",
    "print('crossover_type: ',crossover_type)\n",
    "\n",
    "\n",
    "ga_instance.run()\n",
    "ga_instance\n",
    "\n",
    "\n",
    "\n",
    "# After the generations complete, some plots are showed that summarize the how the outputs/fitenss values evolve over generations.\n",
    "\n",
    "ga_instance.plot_result()\n",
    "\n",
    "# Returning the details of the best solution.\n",
    "best_solution, best_solution_fitness = ga_instance.best_solution()\n",
    "print(\"Parameters of the best solution :\", best_solution)\n",
    "print(\"Fitness value of the best solution :\", best_solution_fitness, \"\\n\")\n",
    "\n",
    "# Saving the GA instance.\n",
    "filename = 'genetic' # The filename to which the instance is saved. The name is without extension.\n",
    "ga_instance.save(filename=filename)\n",
    "\n",
    "# Loading the saved GA instance.\n",
    "loaded_ga_instance = pygad.load(filename=filename)\n",
    "print(\"The saved instance of the genetic algorithm is loaded successfully.\")\n",
    "loaded_ga_instance.plot_result()\n",
    "print(loaded_ga_instance.best_solution())\n"
   ]
  },
  {
   "cell_type": "code",
   "execution_count": null,
   "metadata": {},
   "outputs": [],
   "source": []
  }
 ],
 "metadata": {
  "kernelspec": {
   "display_name": "Python 3",
   "language": "python",
   "name": "python3"
  },
  "language_info": {
   "codemirror_mode": {
    "name": "ipython",
    "version": 3
   },
   "file_extension": ".py",
   "mimetype": "text/x-python",
   "name": "python",
   "nbconvert_exporter": "python",
   "pygments_lexer": "ipython3",
   "version": "3.7.3"
  }
 },
 "nbformat": 4,
 "nbformat_minor": 2
}
